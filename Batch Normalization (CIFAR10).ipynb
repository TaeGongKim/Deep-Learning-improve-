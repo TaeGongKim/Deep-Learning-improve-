{
 "cells": [
  {
   "cell_type": "markdown",
   "id": "rough-egyptian",
   "metadata": {
    "_cell_guid": "b1076dfc-b9ad-4769-8c92-a6c4dae69d19",
    "_uuid": "8f2839f25d086af736a60e9eeb907d3b93b6e0e5",
    "papermill": {
     "duration": 0.019415,
     "end_time": "2021-04-27T09:45:57.760839",
     "exception": false,
     "start_time": "2021-04-27T09:45:57.741424",
     "status": "completed"
    },
    "tags": []
   },
   "source": [
    "# 1. Batch Normalization"
   ]
  },
  {
   "cell_type": "markdown",
   "id": "tired-career",
   "metadata": {
    "papermill": {
     "duration": 0.01775,
     "end_time": "2021-04-27T09:45:57.796605",
     "exception": false,
     "start_time": "2021-04-27T09:45:57.778855",
     "status": "completed"
    },
    "tags": []
   },
   "source": [
    "## 1.1 Reference\n",
    "- https://github.com/ndb796/Deep-Learning-Paper-Review-and-Practice/blob/master/code_practices/Batch_Normalization_Evaluation_(with_Residual_Connection).ipynb\n",
    "- https://github.com/ndb796/Deep-Learning-Paper-Review-and-Practice\n",
    "- paper : https://arxiv.org/abs/1502.03167"
   ]
  },
  {
   "cell_type": "markdown",
   "id": "quiet-change",
   "metadata": {
    "papermill": {
     "duration": 0.01767,
     "end_time": "2021-04-27T09:45:57.832296",
     "exception": false,
     "start_time": "2021-04-27T09:45:57.814626",
     "status": "completed"
    },
    "tags": []
   },
   "source": [
    "## 1.2 Introduction"
   ]
  },
  {
   "cell_type": "markdown",
   "id": "median-nursing",
   "metadata": {
    "papermill": {
     "duration": 0.017637,
     "end_time": "2021-04-27T09:45:57.867725",
     "exception": false,
     "start_time": "2021-04-27T09:45:57.850088",
     "status": "completed"
    },
    "tags": []
   },
   "source": [
    "ResNet18 모델을 이용하여 Batch Normalization의 성능을 측정한다.  \n",
    "- CIFAR-10 데이터를 이용하여 성능을 측정\n",
    "- Batch Normalization layer의 사용 여부를 설정하여 성능 측정"
   ]
  },
  {
   "cell_type": "markdown",
   "id": "documentary-aviation",
   "metadata": {
    "papermill": {
     "duration": 0.017661,
     "end_time": "2021-04-27T09:45:57.903222",
     "exception": false,
     "start_time": "2021-04-27T09:45:57.885561",
     "status": "completed"
    },
    "tags": []
   },
   "source": [
    "# 2. Library Import"
   ]
  },
  {
   "cell_type": "code",
   "execution_count": 1,
   "id": "removable-flood",
   "metadata": {
    "execution": {
     "iopub.execute_input": "2021-04-27T09:45:57.949429Z",
     "iopub.status.busy": "2021-04-27T09:45:57.948804Z",
     "iopub.status.idle": "2021-04-27T09:45:59.304654Z",
     "shell.execute_reply": "2021-04-27T09:45:59.304053Z"
    },
    "papermill": {
     "duration": 1.383756,
     "end_time": "2021-04-27T09:45:59.304813",
     "exception": false,
     "start_time": "2021-04-27T09:45:57.921057",
     "status": "completed"
    },
    "tags": []
   },
   "outputs": [],
   "source": [
    "import torch\n",
    "import torch.nn as nn\n",
    "import torch.nn.functional as F\n",
    "import torch.backends.cudnn as cudnn\n",
    "import torch.optim as optim\n",
    "import os\n",
    "import matplotlib.pyplot as plt\n",
    "\n",
    "import torchvision\n",
    "import torchvision.transforms as transforms"
   ]
  },
  {
   "cell_type": "markdown",
   "id": "outdoor-sharp",
   "metadata": {
    "papermill": {
     "duration": 0.018242,
     "end_time": "2021-04-27T09:45:59.341992",
     "exception": false,
     "start_time": "2021-04-27T09:45:59.323750",
     "status": "completed"
    },
    "tags": []
   },
   "source": [
    "# 3. ResNet Model Define"
   ]
  },
  {
   "cell_type": "markdown",
   "id": "known-august",
   "metadata": {
    "papermill": {
     "duration": 0.021505,
     "end_time": "2021-04-27T09:45:59.381820",
     "exception": false,
     "start_time": "2021-04-27T09:45:59.360315",
     "status": "completed"
    },
    "tags": []
   },
   "source": [
    "## 3.1 Basic Block Class Define"
   ]
  },
  {
   "cell_type": "code",
   "execution_count": 2,
   "id": "developed-contract",
   "metadata": {
    "execution": {
     "iopub.execute_input": "2021-04-27T09:45:59.428699Z",
     "iopub.status.busy": "2021-04-27T09:45:59.427925Z",
     "iopub.status.idle": "2021-04-27T09:45:59.430702Z",
     "shell.execute_reply": "2021-04-27T09:45:59.430288Z"
    },
    "papermill": {
     "duration": 0.030351,
     "end_time": "2021-04-27T09:45:59.430809",
     "exception": false,
     "start_time": "2021-04-27T09:45:59.400458",
     "status": "completed"
    },
    "tags": []
   },
   "outputs": [],
   "source": [
    "class BasicBlock(nn.Module):\n",
    "    def __init__(self, in_planes, planes, with_BN, stride = 1):\n",
    "        super(BasicBlock, self).__init__()\n",
    "        self.with_BN = with_BN\n",
    "        \n",
    "        # 3 by 3 filter\n",
    "        self.conv1 = nn.Conv2d(in_planes, planes,\n",
    "                               kernel_size = 3, stride = stride,\n",
    "                               padding = 1, bias = False)\n",
    "        if with_BN:\n",
    "            self.bn1 = nn.BatchNorm2d(planes)\n",
    "        \n",
    "        # 3 by 3 filter\n",
    "        self.conv2 = nn.Conv2d(planes, planes, \n",
    "                               kernel_size = 3, stride = 1, \n",
    "                               padding = 1, bias = False)\n",
    "        if with_BN:\n",
    "            self.bn2 = nn.BatchNorm2d(planes)\n",
    "            \n",
    "        # 단순한 identity mapping 인 경우\n",
    "        self.shortcut = nn.Sequential()\n",
    "        # 단순한 identity mapping 아닌 경우\n",
    "        if stride != 1:\n",
    "            modules = [nn.Conv2d(in_planes, planes,\n",
    "                                  kernel_size = 1, stride = stride,\n",
    "                                  bias = False)]\n",
    "            if with_BN:\n",
    "                modules.append(nn.BatchNorm2d(planes))\n",
    "            self.shortcut = nn.Sequential(*modules)\n",
    "            \n",
    "    def forward(self, x):\n",
    "        if self.with_BN:\n",
    "            out = F.relu(self.bn1(self.conv1(x)))\n",
    "            out = self.bn2(self.conv2(out))\n",
    "        else:\n",
    "            out = F.relu(self.conv1(x))\n",
    "            out = self.conv2(out)\n",
    "        # ** skip connection !!!! **\n",
    "        out += self.shortcut(x)\n",
    "        out = F.relu(out)\n",
    "        return out"
   ]
  },
  {
   "cell_type": "markdown",
   "id": "quarterly-preference",
   "metadata": {
    "papermill": {
     "duration": 0.01841,
     "end_time": "2021-04-27T09:45:59.467141",
     "exception": false,
     "start_time": "2021-04-27T09:45:59.448731",
     "status": "completed"
    },
    "tags": []
   },
   "source": [
    "## 3.2 ResNet Define"
   ]
  },
  {
   "cell_type": "code",
   "execution_count": 3,
   "id": "automated-documentary",
   "metadata": {
    "execution": {
     "iopub.execute_input": "2021-04-27T09:45:59.515417Z",
     "iopub.status.busy": "2021-04-27T09:45:59.514594Z",
     "iopub.status.idle": "2021-04-27T09:45:59.517141Z",
     "shell.execute_reply": "2021-04-27T09:45:59.516637Z"
    },
    "papermill": {
     "duration": 0.031802,
     "end_time": "2021-04-27T09:45:59.517244",
     "exception": false,
     "start_time": "2021-04-27T09:45:59.485442",
     "status": "completed"
    },
    "tags": []
   },
   "outputs": [],
   "source": [
    "class ResNet(nn.Module):\n",
    "    def __init__(self, block, num_blocks, with_BN, num_classes = 10):\n",
    "        super(ResNet, self).__init__()\n",
    "        \n",
    "        self.in_planes = 64\n",
    "        self.with_BN = with_BN\n",
    "        \n",
    "        # 64개의 3 by 3 filter 사용\n",
    "        self.conv1 = nn.Conv2d(3, 64, kernel_size = 3, \n",
    "                               stride = 1, padding = 1,\n",
    "                               bias = False)\n",
    "        if with_BN:\n",
    "            self.bn1 = nn.BatchNorm2d(64)\n",
    "        self.layer1 = self._make_layer(block, 64, with_BN, \n",
    "                                       num_blocks[0], stride = 1)\n",
    "        self.layer2 = self._make_layer(block, 128, with_BN, \n",
    "                                       num_blocks[1], stride = 2)\n",
    "        self.layer3 = self._make_layer(block, 256, with_BN, \n",
    "                                       num_blocks[2], stride = 2)\n",
    "        self.layer4 = self._make_layer(block, 512, with_BN, \n",
    "                                       num_blocks[3], stride = 2)\n",
    "        self.linear = nn.Linear(512, num_classes)\n",
    "        \n",
    "    def _make_layer(self, block, planes, with_BN, num_blocks, stride):\n",
    "        strides = [stride] + [1] * (num_blocks - 1)\n",
    "        layers = []\n",
    "        for stride in strides:\n",
    "            layers.append(block(self.in_planes, planes, with_BN, stride))\n",
    "            # 다음 레이어를 위해 채널 수 변경\n",
    "            self.in_planes = planes \n",
    "        return nn.Sequential(*layers)\n",
    "    \n",
    "    def forward(self, x):\n",
    "        if self.with_BN:\n",
    "            out = F.relu(self.bn1(self.conv1(x)))\n",
    "        else:\n",
    "            out = F.relu(self.conv1(x))\n",
    "        out = self.layer1(out)\n",
    "        out = self.layer2(out)\n",
    "        out = self.layer3(out)\n",
    "        out = self.layer4(out)\n",
    "        out = F.avg_pool2d(out, 4)\n",
    "        out = out.view(out.size(0), -1)\n",
    "        out = self.linear(out)\n",
    "        return out"
   ]
  },
  {
   "cell_type": "markdown",
   "id": "united-nomination",
   "metadata": {
    "papermill": {
     "duration": 0.018128,
     "end_time": "2021-04-27T09:45:59.553632",
     "exception": false,
     "start_time": "2021-04-27T09:45:59.535504",
     "status": "completed"
    },
    "tags": []
   },
   "source": [
    "## 3.3 ResNet-18 Define"
   ]
  },
  {
   "cell_type": "code",
   "execution_count": 4,
   "id": "mexican-miracle",
   "metadata": {
    "execution": {
     "iopub.execute_input": "2021-04-27T09:45:59.593627Z",
     "iopub.status.busy": "2021-04-27T09:45:59.592979Z",
     "iopub.status.idle": "2021-04-27T09:45:59.595753Z",
     "shell.execute_reply": "2021-04-27T09:45:59.595190Z"
    },
    "papermill": {
     "duration": 0.02406,
     "end_time": "2021-04-27T09:45:59.595859",
     "exception": false,
     "start_time": "2021-04-27T09:45:59.571799",
     "status": "completed"
    },
    "tags": []
   },
   "outputs": [],
   "source": [
    "def ResNet18(with_BN):\n",
    "    return ResNet(BasicBlock, [2, 2, 2, 2], with_BN)"
   ]
  },
  {
   "cell_type": "markdown",
   "id": "single-spread",
   "metadata": {
    "papermill": {
     "duration": 0.018177,
     "end_time": "2021-04-27T09:45:59.632215",
     "exception": false,
     "start_time": "2021-04-27T09:45:59.614038",
     "status": "completed"
    },
    "tags": []
   },
   "source": [
    "# 4. DataSet Loader"
   ]
  },
  {
   "cell_type": "code",
   "execution_count": 5,
   "id": "configured-supplier",
   "metadata": {
    "execution": {
     "iopub.execute_input": "2021-04-27T09:45:59.674951Z",
     "iopub.status.busy": "2021-04-27T09:45:59.674370Z",
     "iopub.status.idle": "2021-04-27T09:46:55.493884Z",
     "shell.execute_reply": "2021-04-27T09:46:55.492956Z"
    },
    "papermill": {
     "duration": 55.843454,
     "end_time": "2021-04-27T09:46:55.494072",
     "exception": false,
     "start_time": "2021-04-27T09:45:59.650618",
     "status": "completed"
    },
    "tags": []
   },
   "outputs": [
    {
     "name": "stdout",
     "output_type": "stream",
     "text": [
      "Downloading https://www.cs.toronto.edu/~kriz/cifar-10-python.tar.gz to ./data/cifar-10-python.tar.gz\n"
     ]
    },
    {
     "data": {
      "application/vnd.jupyter.widget-view+json": {
       "model_id": "c038eadd08c14903b62d668c52c30312",
       "version_major": 2,
       "version_minor": 0
      },
      "text/plain": [
       "0it [00:00, ?it/s]"
      ]
     },
     "metadata": {},
     "output_type": "display_data"
    },
    {
     "name": "stdout",
     "output_type": "stream",
     "text": [
      "Extracting ./data/cifar-10-python.tar.gz to ./data\n",
      "Files already downloaded and verified\n"
     ]
    }
   ],
   "source": [
    "transform_train = transforms.Compose([transforms.RandomCrop(32, padding = 4),\n",
    "                                      transforms.RandomHorizontalFlip(),\n",
    "                                      transforms.ToTensor()\n",
    "                                     ])\n",
    "transform_test = transforms.Compose([transforms.ToTensor()])\n",
    "\n",
    "train_dataset = torchvision.datasets.CIFAR10(root = './data', train = True,\n",
    "                                             download = True, transform = transform_train)\n",
    "test_dataset = torchvision.datasets.CIFAR10(root = './data', train = False,\n",
    "                                             download = True, transform = transform_test)\n",
    "\n",
    "train_loader = torch.utils.data.DataLoader(train_dataset, batch_size = 128,\n",
    "                                           shuffle = True, num_workers = 4)\n",
    "test_loader = torch.utils.data.DataLoader(test_dataset, batch_size = 100,\n",
    "                                           shuffle = False, num_workers = 4)"
   ]
  },
  {
   "cell_type": "markdown",
   "id": "sacred-maintenance",
   "metadata": {
    "papermill": {
     "duration": 0.032038,
     "end_time": "2021-04-27T09:46:55.563093",
     "exception": false,
     "start_time": "2021-04-27T09:46:55.531055",
     "status": "completed"
    },
    "tags": []
   },
   "source": [
    "# 5. Train and Test Function Define"
   ]
  },
  {
   "cell_type": "markdown",
   "id": "green-navigation",
   "metadata": {
    "papermill": {
     "duration": 0.031883,
     "end_time": "2021-04-27T09:46:55.627162",
     "exception": false,
     "start_time": "2021-04-27T09:46:55.595279",
     "status": "completed"
    },
    "tags": []
   },
   "source": [
    "## 5.1 Loss Function"
   ]
  },
  {
   "cell_type": "code",
   "execution_count": 6,
   "id": "operational-estimate",
   "metadata": {
    "execution": {
     "iopub.execute_input": "2021-04-27T09:46:55.697481Z",
     "iopub.status.busy": "2021-04-27T09:46:55.696604Z",
     "iopub.status.idle": "2021-04-27T09:46:55.698762Z",
     "shell.execute_reply": "2021-04-27T09:46:55.699147Z"
    },
    "papermill": {
     "duration": 0.039811,
     "end_time": "2021-04-27T09:46:55.699276",
     "exception": false,
     "start_time": "2021-04-27T09:46:55.659465",
     "status": "completed"
    },
    "tags": []
   },
   "outputs": [],
   "source": [
    "criterion = nn.CrossEntropyLoss()"
   ]
  },
  {
   "cell_type": "markdown",
   "id": "light-infection",
   "metadata": {
    "papermill": {
     "duration": 0.032295,
     "end_time": "2021-04-27T09:46:55.763968",
     "exception": false,
     "start_time": "2021-04-27T09:46:55.731673",
     "status": "completed"
    },
    "tags": []
   },
   "source": [
    "## 5.2 Train Function"
   ]
  },
  {
   "cell_type": "code",
   "execution_count": 7,
   "id": "seventh-commons",
   "metadata": {
    "execution": {
     "iopub.execute_input": "2021-04-27T09:46:55.837410Z",
     "iopub.status.busy": "2021-04-27T09:46:55.836661Z",
     "iopub.status.idle": "2021-04-27T09:46:55.841755Z",
     "shell.execute_reply": "2021-04-27T09:46:55.842322Z"
    },
    "papermill": {
     "duration": 0.046226,
     "end_time": "2021-04-27T09:46:55.842516",
     "exception": false,
     "start_time": "2021-04-27T09:46:55.796290",
     "status": "completed"
    },
    "tags": []
   },
   "outputs": [],
   "source": [
    "def train(net, optimizer, epoch, step, cuda):\n",
    "    net.train()\n",
    "    \n",
    "    correct = 0\n",
    "    total = 0\n",
    "    steps = [] # learning step\n",
    "    losses = [] # step loss\n",
    "    \n",
    "    for _, (inputs, targets) in enumerate(train_loader):\n",
    "        if cuda:\n",
    "            inputs, targets = inputs.cuda(), targets.cuda()\n",
    "        \n",
    "        optimizer.zero_grad()\n",
    "        outputs = net(inputs)\n",
    "        loss = criterion(outputs, targets)\n",
    "        loss.backward()\n",
    "        optimizer.step()\n",
    "        \n",
    "        _, predicted = outputs.max(1)\n",
    "        correct += predicted.eq(targets).sum().item()\n",
    "        total += targets.size(0)\n",
    "        \n",
    "        steps.append(step)\n",
    "        losses.append(loss.item())\n",
    "        step += 1\n",
    "    \n",
    "    return correct / total, steps, losses"
   ]
  },
  {
   "cell_type": "markdown",
   "id": "human-instrumentation",
   "metadata": {
    "papermill": {
     "duration": 0.032632,
     "end_time": "2021-04-27T09:46:55.907553",
     "exception": false,
     "start_time": "2021-04-27T09:46:55.874921",
     "status": "completed"
    },
    "tags": []
   },
   "source": [
    "## 5.3 Test Function"
   ]
  },
  {
   "cell_type": "code",
   "execution_count": 8,
   "id": "invalid-football",
   "metadata": {
    "execution": {
     "iopub.execute_input": "2021-04-27T09:46:55.996999Z",
     "iopub.status.busy": "2021-04-27T09:46:55.996164Z",
     "iopub.status.idle": "2021-04-27T09:46:56.000852Z",
     "shell.execute_reply": "2021-04-27T09:46:56.001498Z"
    },
    "papermill": {
     "duration": 0.057577,
     "end_time": "2021-04-27T09:46:56.001688",
     "exception": false,
     "start_time": "2021-04-27T09:46:55.944111",
     "status": "completed"
    },
    "tags": []
   },
   "outputs": [],
   "source": [
    "def test(net, optimizer, epoch, cuda):\n",
    "    net.eval()\n",
    "    \n",
    "    correct = 0\n",
    "    total = 0\n",
    "    loss = 0\n",
    "    \n",
    "    for batch_idx, (inputs, targets) in enumerate(test_loader):\n",
    "        if cuda:\n",
    "            inputs, targets = inputs.cuda(), targets.cuda()\n",
    "        \n",
    "        outputs = net(inputs)\n",
    "        loss += criterion(outputs, targets).item()\n",
    "        \n",
    "        _, predicted = outputs.max(1)\n",
    "        correct += predicted.eq(targets).sum().item()\n",
    "        total += targets.size(0)\n",
    "        \n",
    "    return correct / total, loss"
   ]
  },
  {
   "cell_type": "markdown",
   "id": "norwegian-stake",
   "metadata": {
    "papermill": {
     "duration": 0.029231,
     "end_time": "2021-04-27T09:46:56.067573",
     "exception": false,
     "start_time": "2021-04-27T09:46:56.038342",
     "status": "completed"
    },
    "tags": []
   },
   "source": [
    "# 6. Training and Result"
   ]
  },
  {
   "cell_type": "markdown",
   "id": "interracial-ethiopia",
   "metadata": {
    "papermill": {
     "duration": 0.030529,
     "end_time": "2021-04-27T09:46:56.127993",
     "exception": false,
     "start_time": "2021-04-27T09:46:56.097464",
     "status": "completed"
    },
    "tags": []
   },
   "source": [
    "## 6.1 Without BN Training"
   ]
  },
  {
   "cell_type": "code",
   "execution_count": 9,
   "id": "qualified-jenny",
   "metadata": {
    "execution": {
     "iopub.execute_input": "2021-04-27T09:46:56.203580Z",
     "iopub.status.busy": "2021-04-27T09:46:56.202851Z",
     "iopub.status.idle": "2021-04-27T09:47:00.673991Z",
     "shell.execute_reply": "2021-04-27T09:47:00.673576Z"
    },
    "papermill": {
     "duration": 4.516345,
     "end_time": "2021-04-27T09:47:00.674114",
     "exception": false,
     "start_time": "2021-04-27T09:46:56.157769",
     "status": "completed"
    },
    "tags": []
   },
   "outputs": [
    {
     "name": "stdout",
     "output_type": "stream",
     "text": [
      "모델 파라미터를 초기화\n",
      "학습 가능한 총 파라미터 수 :  11164362\n"
     ]
    }
   ],
   "source": [
    "# ** 기본적으로 Residual Connection 은 Loss Landscape Smoothing 효과가 있음!!! **\n",
    "# 참고 reference : https://arxiv.org/abs/1712.09913\n",
    "print('모델 파라미터를 초기화')\n",
    "\n",
    "cuda = True if torch.cuda.is_available() else False\n",
    "if cuda:\n",
    "    net = ResNet18(with_BN = False).cuda()\n",
    "else:\n",
    "    net = ResNet18(with_BN = False)\n",
    "    \n",
    "learning_rate = 0.01\n",
    "optimizer = optim.SGD(net.parameters(), lr = learning_rate, \n",
    "                      momentum = 0.9, weight_decay = 0.0002)\n",
    "\n",
    "total_params = sum(p.numel() for p in net.parameters() if p.requires_grad)\n",
    "print('학습 가능한 총 파라미터 수 : ', total_params)"
   ]
  },
  {
   "cell_type": "code",
   "execution_count": 10,
   "id": "appropriate-ownership",
   "metadata": {
    "execution": {
     "iopub.execute_input": "2021-04-27T09:47:00.724299Z",
     "iopub.status.busy": "2021-04-27T09:47:00.723711Z",
     "iopub.status.idle": "2021-04-27T10:01:04.661202Z",
     "shell.execute_reply": "2021-04-27T10:01:04.660707Z"
    },
    "papermill": {
     "duration": 843.966495,
     "end_time": "2021-04-27T10:01:04.661331",
     "exception": false,
     "start_time": "2021-04-27T09:47:00.694836",
     "status": "completed"
    },
    "tags": []
   },
   "outputs": [
    {
     "name": "stdout",
     "output_type": "stream",
     "text": [
      "[Epoch : 0 / 20]\n",
      "Train accuracy = 14.79 / Train loss = 868.2552421092987\n",
      "Test accuracy = 21.930000 / Test loss = 207.51903975009918\n",
      "[Epoch : 1 / 20]\n",
      "Train accuracy = 26.50 / Train loss = 775.1813759803772\n",
      "Test accuracy = 34.850000 / Test loss = 182.30082619190216\n",
      "[Epoch : 2 / 20]\n",
      "Train accuracy = 34.15 / Train loss = 701.8454385995865\n",
      "Test accuracy = 38.130000 / Test loss = 167.76458096504211\n",
      "[Epoch : 3 / 20]\n",
      "Train accuracy = 39.79 / Train loss = 643.9839717149734\n",
      "Test accuracy = 42.860000 / Test loss = 156.6539204120636\n",
      "[Epoch : 4 / 20]\n",
      "Train accuracy = 43.39 / Train loss = 605.3116825819016\n",
      "Test accuracy = 44.500000 / Test loss = 152.12283766269684\n",
      "[Epoch : 5 / 20]\n",
      "Train accuracy = 47.07 / Train loss = 569.3291735649109\n",
      "Test accuracy = 48.880000 / Test loss = 139.0800015926361\n",
      "[Epoch : 6 / 20]\n",
      "Train accuracy = 50.87 / Train loss = 531.2397347688675\n",
      "Test accuracy = 54.180000 / Test loss = 126.89221155643463\n",
      "[Epoch : 7 / 20]\n",
      "Train accuracy = 54.41 / Train loss = 497.9702590703964\n",
      "Test accuracy = 56.410000 / Test loss = 121.55896407365799\n",
      "[Epoch : 8 / 20]\n",
      "Train accuracy = 57.54 / Train loss = 463.74667167663574\n",
      "Test accuracy = 60.730000 / Test loss = 110.2628864645958\n",
      "[Epoch : 9 / 20]\n",
      "Train accuracy = 61.16 / Train loss = 427.94951432943344\n",
      "Test accuracy = 60.750000 / Test loss = 113.6831750869751\n",
      "[Epoch : 10 / 20]\n",
      "Train accuracy = 64.34 / Train loss = 398.4601435661316\n",
      "Test accuracy = 65.880000 / Test loss = 97.15006011724472\n",
      "[Epoch : 11 / 20]\n",
      "Train accuracy = 67.00 / Train loss = 369.25924998521805\n",
      "Test accuracy = 68.160000 / Test loss = 92.37949270009995\n",
      "[Epoch : 12 / 20]\n",
      "Train accuracy = 69.04 / Train loss = 347.03007847070694\n",
      "Test accuracy = 70.550000 / Test loss = 84.53278285264969\n",
      "[Epoch : 13 / 20]\n",
      "Train accuracy = 70.57 / Train loss = 329.0825105905533\n",
      "Test accuracy = 72.780000 / Test loss = 77.95125514268875\n",
      "[Epoch : 14 / 20]\n",
      "Train accuracy = 72.75 / Train loss = 306.17995089292526\n",
      "Test accuracy = 73.140000 / Test loss = 77.7229620218277\n",
      "[Epoch : 15 / 20]\n",
      "Train accuracy = 74.41 / Train loss = 289.80242571234703\n",
      "Test accuracy = 73.150000 / Test loss = 78.89516526460648\n",
      "[Epoch : 16 / 20]\n",
      "Train accuracy = 75.76 / Train loss = 270.7304203212261\n",
      "Test accuracy = 75.190000 / Test loss = 71.40884345769882\n",
      "[Epoch : 17 / 20]\n",
      "Train accuracy = 77.00 / Train loss = 256.8125251829624\n",
      "Test accuracy = 75.300000 / Test loss = 71.90669503808022\n",
      "[Epoch : 18 / 20]\n",
      "Train accuracy = 78.51 / Train loss = 242.0277351140976\n",
      "Test accuracy = 76.850000 / Test loss = 69.6252790093422\n",
      "[Epoch : 19 / 20]\n",
      "Train accuracy = 79.56 / Train loss = 230.6202456653118\n",
      "Test accuracy = 77.410000 / Test loss = 64.56475746631622\n"
     ]
    }
   ],
   "source": [
    "without_BN_train_accuracies = []\n",
    "without_BN_steps = []\n",
    "without_BN_train_losses = []\n",
    "without_BN_test_accuracies = []\n",
    "without_BN_test_losses = []\n",
    "\n",
    "epochs = 20\n",
    "\n",
    "for epoch in range(0, epochs):\n",
    "    print(f'[Epoch : {epoch} / {epochs}]')\n",
    "    train_accuracy, steps, train_losses = train(net, optimizer, epoch, len(without_BN_steps), cuda)\n",
    "    without_BN_train_accuracies.append(train_accuracy)\n",
    "    without_BN_steps.extend(steps)\n",
    "    without_BN_train_losses.extend(train_losses)\n",
    "    print(f'Train accuracy = {train_accuracy * 100:.2f} / Train loss = {sum(train_losses)}')\n",
    "    \n",
    "    test_accuracy, test_loss = test(net, optimizer, epoch, cuda)\n",
    "    without_BN_test_accuracies.append(test_accuracy)\n",
    "    without_BN_test_losses.append(test_loss)\n",
    "    print(f'Test accuracy = {test_accuracy * 100:2f} / Test loss = {test_loss}')"
   ]
  },
  {
   "cell_type": "markdown",
   "id": "spiritual-store",
   "metadata": {
    "papermill": {
     "duration": 0.032215,
     "end_time": "2021-04-27T10:01:04.725142",
     "exception": false,
     "start_time": "2021-04-27T10:01:04.692927",
     "status": "completed"
    },
    "tags": []
   },
   "source": [
    "## 6.2 Without BN Summary"
   ]
  },
  {
   "cell_type": "code",
   "execution_count": 11,
   "id": "fundamental-found",
   "metadata": {
    "execution": {
     "iopub.execute_input": "2021-04-27T10:01:04.812539Z",
     "iopub.status.busy": "2021-04-27T10:01:04.811696Z",
     "iopub.status.idle": "2021-04-27T10:01:04.997806Z",
     "shell.execute_reply": "2021-04-27T10:01:04.998218Z"
    },
    "papermill": {
     "duration": 0.240576,
     "end_time": "2021-04-27T10:01:04.998378",
     "exception": false,
     "start_time": "2021-04-27T10:01:04.757802",
     "status": "completed"
    },
    "tags": []
   },
   "outputs": [
    {
     "data": {
      "image/png": "[encoded data removed]",
      "text/plain": [
       "<Figure size 432x288 with 1 Axes>"
      ]
     },
     "metadata": {
      "needs_background": "light"
     },
     "output_type": "display_data"
    }
   ],
   "source": [
    "plt.plot(without_BN_steps, without_BN_train_losses)\n",
    "plt.title('Train Loss')\n",
    "plt.xlabel('Step')\n",
    "plt.ylabel('Loss')\n",
    "plt.show()"
   ]
  },
  {
   "cell_type": "code",
   "execution_count": 12,
   "id": "national-lodging",
   "metadata": {
    "execution": {
     "iopub.execute_input": "2021-04-27T10:01:05.086951Z",
     "iopub.status.busy": "2021-04-27T10:01:05.085683Z",
     "iopub.status.idle": "2021-04-27T10:01:05.345139Z",
     "shell.execute_reply": "2021-04-27T10:01:05.345647Z"
    },
    "papermill": {
     "duration": 0.313906,
     "end_time": "2021-04-27T10:01:05.345827",
     "exception": false,
     "start_time": "2021-04-27T10:01:05.031921",
     "status": "completed"
    },
    "tags": []
   },
   "outputs": [
    {
     "data": {
      "image/png": "[encoded data removed]",
      "text/plain": [
       "<Figure size 432x288 with 1 Axes>"
      ]
     },
     "metadata": {
      "needs_background": "light"
     },
     "output_type": "display_data"
    },
    {
     "data": {
      "image/png": "[encoded data removed]",
      "text/plain": [
       "<Figure size 432x288 with 1 Axes>"
      ]
     },
     "metadata": {
      "needs_background": "light"
     },
     "output_type": "display_data"
    }
   ],
   "source": [
    "plt.plot([i for i in range(len(without_BN_test_accuracies))], without_BN_test_accuracies)\n",
    "plt.title('Test Accuracy')\n",
    "plt.xlabel('Epoch')\n",
    "plt.ylabel('Accuracy')\n",
    "plt.show()\n",
    "\n",
    "plt.plot([i for i in range(len(without_BN_test_losses))], without_BN_test_losses)\n",
    "plt.title('Test Loss')\n",
    "plt.xlabel('Epoch')\n",
    "plt.ylabel('Loss')\n",
    "plt.show()"
   ]
  },
  {
   "cell_type": "markdown",
   "id": "reduced-julian",
   "metadata": {
    "papermill": {
     "duration": 0.034276,
     "end_time": "2021-04-27T10:01:05.419422",
     "exception": false,
     "start_time": "2021-04-27T10:01:05.385146",
     "status": "completed"
    },
    "tags": []
   },
   "source": [
    "## 6.3 With BN Training"
   ]
  },
  {
   "cell_type": "code",
   "execution_count": 13,
   "id": "liberal-welding",
   "metadata": {
    "execution": {
     "iopub.execute_input": "2021-04-27T10:01:05.500347Z",
     "iopub.status.busy": "2021-04-27T10:01:05.499677Z",
     "iopub.status.idle": "2021-04-27T10:01:05.615615Z",
     "shell.execute_reply": "2021-04-27T10:01:05.616261Z"
    },
    "papermill": {
     "duration": 0.161065,
     "end_time": "2021-04-27T10:01:05.616484",
     "exception": false,
     "start_time": "2021-04-27T10:01:05.455419",
     "status": "completed"
    },
    "tags": []
   },
   "outputs": [
    {
     "name": "stdout",
     "output_type": "stream",
     "text": [
      "모델 파라미터를 초기화\n",
      "학습 가능한 총 파라미터 수 :  11173962\n"
     ]
    }
   ],
   "source": [
    "# ** 기본적으로 Residual Connection 은 Loss Landscape Smoothing 효과가 있음!!! **\n",
    "# 참고 reference : https://arxiv.org/abs/1712.09913\n",
    "print('모델 파라미터를 초기화')\n",
    "\n",
    "cuda = True if torch.cuda.is_available() else False\n",
    "if cuda:\n",
    "    net = ResNet18(with_BN = True).cuda()\n",
    "else:\n",
    "    net = ResNet18(with_BN = True)\n",
    "    \n",
    "learning_rate = 0.01\n",
    "optimizer = optim.SGD(net.parameters(), lr = learning_rate, \n",
    "                      momentum = 0.9, weight_decay = 0.0002)\n",
    "\n",
    "total_params = sum(p.numel() for p in net.parameters() if p.requires_grad)\n",
    "print('학습 가능한 총 파라미터 수 : ', total_params)"
   ]
  },
  {
   "cell_type": "code",
   "execution_count": 14,
   "id": "derived-latvia",
   "metadata": {
    "execution": {
     "iopub.execute_input": "2021-04-27T10:01:05.706260Z",
     "iopub.status.busy": "2021-04-27T10:01:05.703807Z",
     "iopub.status.idle": "2021-04-27T10:16:20.121994Z",
     "shell.execute_reply": "2021-04-27T10:16:20.122628Z"
    },
    "papermill": {
     "duration": 914.468184,
     "end_time": "2021-04-27T10:16:20.122854",
     "exception": false,
     "start_time": "2021-04-27T10:01:05.654670",
     "status": "completed"
    },
    "tags": []
   },
   "outputs": [
    {
     "name": "stdout",
     "output_type": "stream",
     "text": [
      "[Epoch : 0 / 20]\n",
      "Train accuracy = 46.71 / Train loss = 568.7912685871124\n",
      "Test accuracy = 50.100000 / Test loss = 149.87479650974274\n",
      "[Epoch : 1 / 20]\n",
      "Train accuracy = 65.78 / Train loss = 377.17705035209656\n",
      "Test accuracy = 67.970000 / Test loss = 91.64452368021011\n",
      "[Epoch : 2 / 20]\n",
      "Train accuracy = 74.08 / Train loss = 290.9509983062744\n",
      "Test accuracy = 75.310000 / Test loss = 73.68302661180496\n",
      "[Epoch : 3 / 20]\n",
      "Train accuracy = 78.77 / Train loss = 238.0373584330082\n",
      "Test accuracy = 78.830000 / Test loss = 63.001729249954224\n",
      "[Epoch : 4 / 20]\n",
      "Train accuracy = 81.53 / Train loss = 208.57120582461357\n",
      "Test accuracy = 79.370000 / Test loss = 61.60473322868347\n",
      "[Epoch : 5 / 20]\n",
      "Train accuracy = 83.36 / Train loss = 186.04195845127106\n",
      "Test accuracy = 77.160000 / Test loss = 72.68966647982597\n",
      "[Epoch : 6 / 20]\n",
      "Train accuracy = 85.08 / Train loss = 168.4304623901844\n",
      "Test accuracy = 77.940000 / Test loss = 66.71426117420197\n",
      "[Epoch : 7 / 20]\n",
      "Train accuracy = 86.30 / Train loss = 152.91691488027573\n",
      "Test accuracy = 84.920000 / Test loss = 46.80259370803833\n",
      "[Epoch : 8 / 20]\n",
      "Train accuracy = 87.55 / Train loss = 139.47505639493465\n",
      "Test accuracy = 85.430000 / Test loss = 43.330790519714355\n",
      "[Epoch : 9 / 20]\n",
      "Train accuracy = 88.61 / Train loss = 128.46369998157024\n",
      "Test accuracy = 82.550000 / Test loss = 54.52690178155899\n",
      "[Epoch : 10 / 20]\n",
      "Train accuracy = 89.22 / Train loss = 120.10623896121979\n",
      "Test accuracy = 86.320000 / Test loss = 40.511435985565186\n",
      "[Epoch : 11 / 20]\n",
      "Train accuracy = 90.28 / Train loss = 109.95463728904724\n",
      "Test accuracy = 84.920000 / Test loss = 48.3184185475111\n",
      "[Epoch : 12 / 20]\n",
      "Train accuracy = 90.54 / Train loss = 105.43340337276459\n",
      "Test accuracy = 86.290000 / Test loss = 42.12658965587616\n",
      "[Epoch : 13 / 20]\n",
      "Train accuracy = 91.35 / Train loss = 98.0921096354723\n",
      "Test accuracy = 87.500000 / Test loss = 39.06892940402031\n",
      "[Epoch : 14 / 20]\n",
      "Train accuracy = 91.83 / Train loss = 91.97691959142685\n",
      "Test accuracy = 88.490000 / Test loss = 36.382875099778175\n",
      "[Epoch : 15 / 20]\n",
      "Train accuracy = 92.23 / Train loss = 87.11635335534811\n",
      "Test accuracy = 87.480000 / Test loss = 40.96301180124283\n",
      "[Epoch : 16 / 20]\n",
      "Train accuracy = 92.86 / Train loss = 79.63397235423326\n",
      "Test accuracy = 87.400000 / Test loss = 40.11064001172781\n",
      "[Epoch : 17 / 20]\n",
      "Train accuracy = 93.22 / Train loss = 75.50834101438522\n",
      "Test accuracy = 87.850000 / Test loss = 39.8609329238534\n",
      "[Epoch : 18 / 20]\n",
      "Train accuracy = 93.44 / Train loss = 72.91829236596823\n",
      "Test accuracy = 86.960000 / Test loss = 43.53630295395851\n",
      "[Epoch : 19 / 20]\n",
      "Train accuracy = 94.07 / Train loss = 65.9390270896256\n",
      "Test accuracy = 88.570000 / Test loss = 40.81260108947754\n"
     ]
    }
   ],
   "source": [
    "with_BN_train_accuracies = []\n",
    "with_BN_steps = []\n",
    "with_BN_train_losses = []\n",
    "with_BN_test_accuracies = []\n",
    "with_BN_test_losses = []\n",
    "\n",
    "epochs = 20\n",
    "\n",
    "for epoch in range(0, epochs):\n",
    "    print(f'[Epoch : {epoch} / {epochs}]')\n",
    "    train_accuracy, steps, train_losses = train(net, optimizer, epoch, len(with_BN_steps), cuda)\n",
    "    with_BN_train_accuracies.append(train_accuracy)\n",
    "    with_BN_steps.extend(steps)\n",
    "    with_BN_train_losses.extend(train_losses)\n",
    "    print(f'Train accuracy = {train_accuracy * 100:.2f} / Train loss = {sum(train_losses)}')\n",
    "    \n",
    "    test_accuracy, test_loss = test(net, optimizer, epoch, cuda)\n",
    "    with_BN_test_accuracies.append(test_accuracy)\n",
    "    with_BN_test_losses.append(test_loss)\n",
    "    print(f'Test accuracy = {test_accuracy * 100:2f} / Test loss = {test_loss}')"
   ]
  },
  {
   "cell_type": "markdown",
   "id": "indonesian-restaurant",
   "metadata": {
    "papermill": {
     "duration": 0.044785,
     "end_time": "2021-04-27T10:16:20.213521",
     "exception": false,
     "start_time": "2021-04-27T10:16:20.168736",
     "status": "completed"
    },
    "tags": []
   },
   "source": [
    "## 6.4 With BN Summary"
   ]
  },
  {
   "cell_type": "code",
   "execution_count": 15,
   "id": "hairy-navigation",
   "metadata": {
    "execution": {
     "iopub.execute_input": "2021-04-27T10:16:20.334599Z",
     "iopub.status.busy": "2021-04-27T10:16:20.333668Z",
     "iopub.status.idle": "2021-04-27T10:16:20.459337Z",
     "shell.execute_reply": "2021-04-27T10:16:20.459886Z"
    },
    "papermill": {
     "duration": 0.202089,
     "end_time": "2021-04-27T10:16:20.460067",
     "exception": false,
     "start_time": "2021-04-27T10:16:20.257978",
     "status": "completed"
    },
    "tags": []
   },
   "outputs": [
    {
     "data": {
      "image/png": "[encoded data removed]",
      "text/plain": [
       "<Figure size 432x288 with 1 Axes>"
      ]
     },
     "metadata": {
      "needs_background": "light"
     },
     "output_type": "display_data"
    }
   ],
   "source": [
    "plt.plot(with_BN_steps, with_BN_train_losses)\n",
    "plt.title('Train Loss')\n",
    "plt.xlabel('Step')\n",
    "plt.ylabel('Loss')\n",
    "plt.show()"
   ]
  },
  {
   "cell_type": "code",
   "execution_count": 16,
   "id": "crazy-listing",
   "metadata": {
    "execution": {
     "iopub.execute_input": "2021-04-27T10:16:20.614237Z",
     "iopub.status.busy": "2021-04-27T10:16:20.610502Z",
     "iopub.status.idle": "2021-04-27T10:16:20.975588Z",
     "shell.execute_reply": "2021-04-27T10:16:20.975089Z"
    },
    "papermill": {
     "duration": 0.466007,
     "end_time": "2021-04-27T10:16:20.975714",
     "exception": false,
     "start_time": "2021-04-27T10:16:20.509707",
     "status": "completed"
    },
    "tags": []
   },
   "outputs": [
    {
     "data": {
      "image/png": "[encoded data removed]",
      "text/plain": [
       "<Figure size 432x288 with 1 Axes>"
      ]
     },
     "metadata": {
      "needs_background": "light"
     },
     "output_type": "display_data"
    },
    {
     "data": {
      "image/png": "[encoded data removed]",
      "text/plain": [
       "<Figure size 432x288 with 1 Axes>"
      ]
     },
     "metadata": {
      "needs_background": "light"
     },
     "output_type": "display_data"
    }
   ],
   "source": [
    "plt.plot([i for i in range(len(with_BN_test_accuracies))], with_BN_test_accuracies)\n",
    "plt.title('Test Accuracy')\n",
    "plt.xlabel('Epoch')\n",
    "plt.ylabel('Accuracy')\n",
    "plt.show()\n",
    "\n",
    "plt.plot([i for i in range(len(with_BN_test_losses))], with_BN_test_losses)\n",
    "plt.title('Test Loss')\n",
    "plt.xlabel('Epoch')\n",
    "plt.ylabel('Loss')\n",
    "plt.show()"
   ]
  },
  {
   "cell_type": "markdown",
   "id": "funky-nudist",
   "metadata": {
    "papermill": {
     "duration": 0.047528,
     "end_time": "2021-04-27T10:16:21.075111",
     "exception": false,
     "start_time": "2021-04-27T10:16:21.027583",
     "status": "completed"
    },
    "tags": []
   },
   "source": [
    "## 6.5 Without BN vs With BN"
   ]
  },
  {
   "cell_type": "code",
   "execution_count": 17,
   "id": "former-livestock",
   "metadata": {
    "execution": {
     "iopub.execute_input": "2021-04-27T10:16:21.200229Z",
     "iopub.status.busy": "2021-04-27T10:16:21.199446Z",
     "iopub.status.idle": "2021-04-27T10:16:21.360758Z",
     "shell.execute_reply": "2021-04-27T10:16:21.361205Z"
    },
    "papermill": {
     "duration": 0.23839,
     "end_time": "2021-04-27T10:16:21.361384",
     "exception": false,
     "start_time": "2021-04-27T10:16:21.122994",
     "status": "completed"
    },
    "tags": []
   },
   "outputs": [
    {
     "data": {
      "image/png": "[encoded data removed]",
      "text/plain": [
       "<Figure size 432x288 with 1 Axes>"
      ]
     },
     "metadata": {
      "needs_background": "light"
     },
     "output_type": "display_data"
    }
   ],
   "source": [
    "\n",
    "plt.plot(without_BN_steps, without_BN_train_losses)\n",
    "plt.plot(with_BN_steps, with_BN_train_losses)\n",
    "plt.title('Train Loss')\n",
    "plt.xlabel('Step')\n",
    "plt.ylabel('Loss')\n",
    "plt.legend(['w/o BN', 'w/ BN'])\n",
    "plt.show()"
   ]
  },
  {
   "cell_type": "code",
   "execution_count": 18,
   "id": "pretty-princess",
   "metadata": {
    "execution": {
     "iopub.execute_input": "2021-04-27T10:16:21.517685Z",
     "iopub.status.busy": "2021-04-27T10:16:21.491213Z",
     "iopub.status.idle": "2021-04-27T10:16:21.785212Z",
     "shell.execute_reply": "2021-04-27T10:16:21.784730Z"
    },
    "papermill": {
     "duration": 0.375226,
     "end_time": "2021-04-27T10:16:21.785343",
     "exception": false,
     "start_time": "2021-04-27T10:16:21.410117",
     "status": "completed"
    },
    "tags": []
   },
   "outputs": [
    {
     "data": {
      "image/png": "[encoded data removed]",
      "text/plain": [
       "<Figure size 432x288 with 1 Axes>"
      ]
     },
     "metadata": {
      "needs_background": "light"
     },
     "output_type": "display_data"
    },
    {
     "data": {
      "image/png": "[encoded data removed]",
      "text/plain": [
       "<Figure size 432x288 with 1 Axes>"
      ]
     },
     "metadata": {
      "needs_background": "light"
     },
     "output_type": "display_data"
    }
   ],
   "source": [
    "plt.plot([i for i in range(len(without_BN_test_accuracies))], without_BN_test_accuracies)\n",
    "plt.plot([i for i in range(len(with_BN_test_accuracies))], with_BN_test_accuracies)\n",
    "plt.title('Test Accuracy')\n",
    "plt.xlabel('Epoch')\n",
    "plt.ylabel('Accuracy')\n",
    "plt.legend(['w/o BN', 'w/ BN'])\n",
    "plt.show()\n",
    "\n",
    "plt.plot([i for i in range(len(without_BN_test_losses))], without_BN_test_losses)\n",
    "plt.plot([i for i in range(len(with_BN_test_losses))], with_BN_test_losses)\n",
    "plt.title('Test Loss')\n",
    "plt.xlabel('Epoch')\n",
    "plt.ylabel('Loss')\n",
    "plt.legend(['w/o BN', 'w/ BN'])\n",
    "plt.show()"
   ]
  }
 ],
 "metadata": {
  "kernelspec": {
   "display_name": "Python 3",
   "language": "python",
   "name": "python3"
  },
  "language_info": {
   "codemirror_mode": {
    "name": "ipython",
    "version": 3
   },
   "file_extension": ".py",
   "mimetype": "text/x-python",
   "name": "python",
   "nbconvert_exporter": "python",
   "pygments_lexer": "ipython3",
   "version": "3.7.10"
  },
  "papermill": {
   "default_parameters": {},
   "duration": 1832.415923,
   "end_time": "2021-04-27T10:16:23.726300",
   "environment_variables": {},
   "exception": null,
   "input_path": "__notebook__.ipynb",
   "output_path": "__notebook__.ipynb",
   "parameters": {},
   "start_time": "2021-04-27T09:45:51.310377",
   "version": "2.3.3"
  },
  "widgets": {
   "application/vnd.jupyter.widget-state+json": {
    "state": {
     "1f3690801482411f80d1906d2bf0fb98": {
      "model_module": "@jupyter-widgets/base",
      "model_module_version": "1.2.0",
      "model_name": "LayoutModel",
      "state": {
       "_model_module": "@jupyter-widgets/base",
       "_model_module_version": "1.2.0",
       "_model_name": "LayoutModel",
       "_view_count": null,
       "_view_module": "@jupyter-widgets/base",
       "_view_module_version": "1.2.0",
       "_view_name": "LayoutView",
       "align_content": null,
       "align_items": null,
       "align_self": null,
       "border": null,
       "bottom": null,
       "display": null,
       "flex": null,
       "flex_flow": null,
       "grid_area": null,
       "grid_auto_columns": null,
       "grid_auto_flow": null,
       "grid_auto_rows": null,
       "grid_column": null,
       "grid_gap": null,
       "grid_row": null,
       "grid_template_areas": null,
       "grid_template_columns": null,
       "grid_template_rows": null,
       "height": null,
       "justify_content": null,
       "justify_items": null,
       "left": null,
       "margin": null,
       "max_height": null,
       "max_width": null,
       "min_height": null,
       "min_width": null,
       "object_fit": null,
       "object_position": null,
       "order": null,
       "overflow": null,
       "overflow_x": null,
       "overflow_y": null,
       "padding": null,
       "right": null,
       "top": null,
       "visibility": null,
       "width": null
      }
     },
     "2883595a29e44986ac433c4c3968967c": {
      "model_module": "@jupyter-widgets/controls",
      "model_module_version": "1.5.0",
      "model_name": "HTMLModel",
      "state": {
       "_dom_classes": [],
       "_model_module": "@jupyter-widgets/controls",
       "_model_module_version": "1.5.0",
       "_model_name": "HTMLModel",
       "_view_count": null,
       "_view_module": "@jupyter-widgets/controls",
       "_view_module_version": "1.5.0",
       "_view_name": "HTMLView",
       "description": "",
       "description_tooltip": null,
       "layout": "IPY_MODEL_2b58ea13e6b74bc4aef4144bf926b211",
       "placeholder": "​",
       "style": "IPY_MODEL_7f61f078df07438e9a28132fcd170ec0",
       "value": " 170500096/? [01:10&lt;00:00, 4263876.98it/s]"
      }
     },
     "2b58ea13e6b74bc4aef4144bf926b211": {
      "model_module": "@jupyter-widgets/base",
      "model_module_version": "1.2.0",
      "model_name": "LayoutModel",
      "state": {
       "_model_module": "@jupyter-widgets/base",
       "_model_module_version": "1.2.0",
       "_model_name": "LayoutModel",
       "_view_count": null,
       "_view_module": "@jupyter-widgets/base",
       "_view_module_version": "1.2.0",
       "_view_name": "LayoutView",
       "align_content": null,
       "align_items": null,
       "align_self": null,
       "border": null,
       "bottom": null,
       "display": null,
       "flex": null,
       "flex_flow": null,
       "grid_area": null,
       "grid_auto_columns": null,
       "grid_auto_flow": null,
       "grid_auto_rows": null,
       "grid_column": null,
       "grid_gap": null,
       "grid_row": null,
       "grid_template_areas": null,
       "grid_template_columns": null,
       "grid_template_rows": null,
       "height": null,
       "justify_content": null,
       "justify_items": null,
       "left": null,
       "margin": null,
       "max_height": null,
       "max_width": null,
       "min_height": null,
       "min_width": null,
       "object_fit": null,
       "object_position": null,
       "order": null,
       "overflow": null,
       "overflow_x": null,
       "overflow_y": null,
       "padding": null,
       "right": null,
       "top": null,
       "visibility": null,
       "width": null
      }
     },
     "493097b9f70e44bcb13d38c7fa3c1a38": {
      "model_module": "@jupyter-widgets/controls",
      "model_module_version": "1.5.0",
      "model_name": "HTMLModel",
      "state": {
       "_dom_classes": [],
       "_model_module": "@jupyter-widgets/controls",
       "_model_module_version": "1.5.0",
       "_model_name": "HTMLModel",
       "_view_count": null,
       "_view_module": "@jupyter-widgets/controls",
       "_view_module_version": "1.5.0",
       "_view_name": "HTMLView",
       "description": "",
       "description_tooltip": null,
       "layout": "IPY_MODEL_1f3690801482411f80d1906d2bf0fb98",
       "placeholder": "​",
       "style": "IPY_MODEL_e9dde21ae2c744e9886f2bd41abafe59",
       "value": ""
      }
     },
     "7f61f078df07438e9a28132fcd170ec0": {
      "model_module": "@jupyter-widgets/controls",
      "model_module_version": "1.5.0",
      "model_name": "DescriptionStyleModel",
      "state": {
       "_model_module": "@jupyter-widgets/controls",
       "_model_module_version": "1.5.0",
       "_model_name": "DescriptionStyleModel",
       "_view_count": null,
       "_view_module": "@jupyter-widgets/base",
       "_view_module_version": "1.2.0",
       "_view_name": "StyleView",
       "description_width": ""
      }
     },
     "92bb3d3428e24d719066cacc67a7b11d": {
      "model_module": "@jupyter-widgets/controls",
      "model_module_version": "1.5.0",
      "model_name": "FloatProgressModel",
      "state": {
       "_dom_classes": [],
       "_model_module": "@jupyter-widgets/controls",
       "_model_module_version": "1.5.0",
       "_model_name": "FloatProgressModel",
       "_view_count": null,
       "_view_module": "@jupyter-widgets/controls",
       "_view_module_version": "1.5.0",
       "_view_name": "ProgressView",
       "bar_style": "info",
       "description": "",
       "description_tooltip": null,
       "layout": "IPY_MODEL_a18221ddfc524fcd866116fde599be6c",
       "max": 1.0,
       "min": 0.0,
       "orientation": "horizontal",
       "style": "IPY_MODEL_dfa74e8490f2453eaa14625ce5875ac9",
       "value": 1.0
      }
     },
     "a18221ddfc524fcd866116fde599be6c": {
      "model_module": "@jupyter-widgets/base",
      "model_module_version": "1.2.0",
      "model_name": "LayoutModel",
      "state": {
       "_model_module": "@jupyter-widgets/base",
       "_model_module_version": "1.2.0",
       "_model_name": "LayoutModel",
       "_view_count": null,
       "_view_module": "@jupyter-widgets/base",
       "_view_module_version": "1.2.0",
       "_view_name": "LayoutView",
       "align_content": null,
       "align_items": null,
       "align_self": null,
       "border": null,
       "bottom": null,
       "display": null,
       "flex": null,
       "flex_flow": null,
       "grid_area": null,
       "grid_auto_columns": null,
       "grid_auto_flow": null,
       "grid_auto_rows": null,
       "grid_column": null,
       "grid_gap": null,
       "grid_row": null,
       "grid_template_areas": null,
       "grid_template_columns": null,
       "grid_template_rows": null,
       "height": null,
       "justify_content": null,
       "justify_items": null,
       "left": null,
       "margin": null,
       "max_height": null,
       "max_width": null,
       "min_height": null,
       "min_width": null,
       "object_fit": null,
       "object_position": null,
       "order": null,
       "overflow": null,
       "overflow_x": null,
       "overflow_y": null,
       "padding": null,
       "right": null,
       "top": null,
       "visibility": null,
       "width": "20px"
      }
     },
     "c038eadd08c14903b62d668c52c30312": {
      "model_module": "@jupyter-widgets/controls",
      "model_module_version": "1.5.0",
      "model_name": "HBoxModel",
      "state": {
       "_dom_classes": [],
       "_model_module": "@jupyter-widgets/controls",
       "_model_module_version": "1.5.0",
       "_model_name": "HBoxModel",
       "_view_count": null,
       "_view_module": "@jupyter-widgets/controls",
       "_view_module_version": "1.5.0",
       "_view_name": "HBoxView",
       "box_style": "",
       "children": [
        "IPY_MODEL_493097b9f70e44bcb13d38c7fa3c1a38",
        "IPY_MODEL_92bb3d3428e24d719066cacc67a7b11d",
        "IPY_MODEL_2883595a29e44986ac433c4c3968967c"
       ],
       "layout": "IPY_MODEL_fc33d53ec0334641823d65e764c4c55e"
      }
     },
     "dfa74e8490f2453eaa14625ce5875ac9": {
      "model_module": "@jupyter-widgets/controls",
      "model_module_version": "1.5.0",
      "model_name": "ProgressStyleModel",
      "state": {
       "_model_module": "@jupyter-widgets/controls",
       "_model_module_version": "1.5.0",
       "_model_name": "ProgressStyleModel",
       "_view_count": null,
       "_view_module": "@jupyter-widgets/base",
       "_view_module_version": "1.2.0",
       "_view_name": "StyleView",
       "bar_color": null,
       "description_width": ""
      }
     },
     "e9dde21ae2c744e9886f2bd41abafe59": {
      "model_module": "@jupyter-widgets/controls",
      "model_module_version": "1.5.0",
      "model_name": "DescriptionStyleModel",
      "state": {
       "_model_module": "@jupyter-widgets/controls",
       "_model_module_version": "1.5.0",
       "_model_name": "DescriptionStyleModel",
       "_view_count": null,
       "_view_module": "@jupyter-widgets/base",
       "_view_module_version": "1.2.0",
       "_view_name": "StyleView",
       "description_width": ""
      }
     },
     "fc33d53ec0334641823d65e764c4c55e": {
      "model_module": "@jupyter-widgets/base",
      "model_module_version": "1.2.0",
      "model_name": "LayoutModel",
      "state": {
       "_model_module": "@jupyter-widgets/base",
       "_model_module_version": "1.2.0",
       "_model_name": "LayoutModel",
       "_view_count": null,
       "_view_module": "@jupyter-widgets/base",
       "_view_module_version": "1.2.0",
       "_view_name": "LayoutView",
       "align_content": null,
       "align_items": null,
       "align_self": null,
       "border": null,
       "bottom": null,
       "display": null,
       "flex": null,
       "flex_flow": null,
       "grid_area": null,
       "grid_auto_columns": null,
       "grid_auto_flow": null,
       "grid_auto_rows": null,
       "grid_column": null,
       "grid_gap": null,
       "grid_row": null,
       "grid_template_areas": null,
       "grid_template_columns": null,
       "grid_template_rows": null,
       "height": null,
       "justify_content": null,
       "justify_items": null,
       "left": null,
       "margin": null,
       "max_height": null,
       "max_width": null,
       "min_height": null,
       "min_width": null,
       "object_fit": null,
       "object_position": null,
       "order": null,
       "overflow": null,
       "overflow_x": null,
       "overflow_y": null,
       "padding": null,
       "right": null,
       "top": null,
       "visibility": null,
       "width": null
      }
     }
    },
    "version_major": 2,
    "version_minor": 0
   }
  }
 },
 "nbformat": 4,
 "nbformat_minor": 5
}
